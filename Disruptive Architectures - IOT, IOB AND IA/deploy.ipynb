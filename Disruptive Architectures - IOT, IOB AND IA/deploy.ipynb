{
 "cells": [
  {
   "cell_type": "code",
   "execution_count": 1,
   "id": "4424e975",
   "metadata": {},
   "outputs": [],
   "source": [
    "from flask import Flask\n",
    "import pandas as pd\n",
    "import joblib"
   ]
  },
  {
   "cell_type": "code",
   "execution_count": 10,
   "id": "5e0b6d1e",
   "metadata": {
    "scrolled": true
   },
   "outputs": [
    {
     "name": "stdout",
     "output_type": "stream",
     "text": [
      " * Serving Flask app \"__main__\" (lazy loading)\n",
      " * Environment: production\n",
      "\u001b[31m   WARNING: This is a development server. Do not use it in a production deployment.\u001b[0m\n",
      "\u001b[2m   Use a production WSGI server instead.\u001b[0m\n",
      " * Debug mode: off\n"
     ]
    },
    {
     "name": "stderr",
     "output_type": "stream",
     "text": [
      " * Running on http://127.0.0.1:5000/ (Press CTRL+C to quit)\n",
      "127.0.0.1 - - [05/Jun/2023 17:21:59] \"GET /46/76/77/18.2356751/19.68538502/6.967843048/83.74879344 HTTP/1.1\" 200 -\n",
      "127.0.0.1 - - [05/Jun/2023 17:22:01] \"GET /favicon.ico HTTP/1.1\" 404 -\n"
     ]
    }
   ],
   "source": [
    "app = Flask(__name__) \n",
    "\n",
    "x = {'N': 0,\n",
    "    'P': 0,\n",
    "    'K': 0,\n",
    "    'temperature': 0,\n",
    "    'humidity': 0,\n",
    "    'ph': 0,\n",
    "    'rainfall': 0,}\n",
    "\n",
    "mapeamento_datas = {\n",
    "    \"apple\": 'julho a setembro',\n",
    "    \"banana\": 'outubro a março',\n",
    "    \"blackgram\": 'setembro a novembro',\n",
    "    \"chickpea\": 'primavera ou verão',\n",
    "    \"coconut\": 'janeiro e fevereiro',\n",
    "    \"coffee\": 'outubro a março',\n",
    "    \"cotton\": 'fevereiro a junho',\n",
    "    \"grapes\": 'julho a agosto',\n",
    "    \"jute\": 'outubro a março',\n",
    "    \"kidneybeans\": 'fevereiro a março e abril a julho',\n",
    "    \"lentil\": 'maio',\n",
    "    \"maize\": 'final de setembro a começo de novembro',\n",
    "    \"mango\": 'outubro e março',\n",
    "    \"mothbeans\": 'setembro a novembro, janeiro a março, maio a julho',\n",
    "    \"mungbean\": 'agosto e março',\n",
    "    \"muskmelon\": 'outubro a fevereiro',\n",
    "    \"orange\": 'setembro a dezembro',\n",
    "    \"papaya\": 'qualquer época do ano',\n",
    "    \"pigeonpeas\": 'setembro e novembro',\n",
    "    \"pomegranate\": 'setembro',\n",
    "    \"rice\": 'outubro a dezembro',\n",
    "    \"watermelon\": 'outubro a fevereiro'\n",
    "}\n",
    "\n",
    "mapeamento_alimentos = {\n",
    "    \"apple\": 'maçã',\n",
    "    \"banana\": 'banana',\n",
    "    \"blackgram\": 'feijão preto',\n",
    "    \"chickpea\": 'grão-de-bico',\n",
    "    \"coconut\": 'coco',\n",
    "    \"coffee\": 'café',\n",
    "    \"cotton\": 'algodão',\n",
    "    \"grapes\": 'uvas',\n",
    "    \"jute\": 'juta',\n",
    "    \"kidneybeans\": 'feijão vermelho',\n",
    "    \"lentil\": 'lentilha',\n",
    "    \"maize\": 'milho',\n",
    "    \"mango\": 'manga',\n",
    "    \"mothbeans\": 'feijão carioca',\n",
    "    \"mungbean\": 'feijão moyashi',\n",
    "    \"muskmelon\": 'melão',\n",
    "    \"orange\": 'laranja',\n",
    "    \"papaya\": 'mamão',\n",
    "    \"pigeonpeas\": 'sorgo',\n",
    "    \"pomegranate\": 'romã',\n",
    "    \"rice\": 'arroz',\n",
    "    \"watermelon\": 'melancia'\n",
    "}\n",
    "\n",
    "@app.route(\"/\")\n",
    "def inicio():\n",
    "    return x\n",
    "\n",
    "@app.route(\"/<n>/<p>/<k>/<temperature>/<humidity>/<ph>/<rainfall>\")\n",
    "def main(n, p, k, temperature, humidity, ph, rainfall):\n",
    "    \n",
    "    x = {'N': float(n),\n",
    "    'P': float(p),\n",
    "    'K': float(k),\n",
    "    'temperature': float(temperature),\n",
    "    'humidity': float(humidity),\n",
    "    'ph': float(ph),\n",
    "    'rainfall': float(rainfall)}\n",
    "    \n",
    "    valores_x = pd.DataFrame(x, index=[0])\n",
    "    modelo = joblib.load('modelo.joblib')\n",
    "    label = modelo.predict(valores_x)\n",
    "    \n",
    "    return {'label': mapeamento_alimentos[label[0]],\n",
    "            'epoca': mapeamento_datas[label[0]]}\n",
    "\n",
    "app.run()"
   ]
  }
 ],
 "metadata": {
  "kernelspec": {
   "display_name": "Python 3 (ipykernel)",
   "language": "python",
   "name": "python3"
  },
  "language_info": {
   "codemirror_mode": {
    "name": "ipython",
    "version": 3
   },
   "file_extension": ".py",
   "mimetype": "text/x-python",
   "name": "python",
   "nbconvert_exporter": "python",
   "pygments_lexer": "ipython3",
   "version": "3.9.7"
  }
 },
 "nbformat": 4,
 "nbformat_minor": 5
}
